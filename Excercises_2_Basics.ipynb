{
  "cells": [
    {
      "cell_type": "markdown",
      "metadata": {
        "id": "GGR_j2k2PVbO"
      },
      "source": [
        "Write a function translate() that will translate a text into \"rövarspråket\" (Swedish for \"robber's language\"). That is, double every consonant and place an occurrence of \"o\" in between. For example, translate(\"this is fun\") should return the string \"tothohisos isos fofunon\"."
      ]
    },
    {
      "cell_type": "code",
      "execution_count": null,
      "metadata": {
        "colab": {
          "base_uri": "https://localhost:8080/"
        },
        "id": "dnxq1_SKPVbP",
        "outputId": "56c29ced-b86e-4043-d98f-014f1683951f"
      },
      "outputs": [
        {
          "output_type": "stream",
          "name": "stdout",
          "text": [
            "Enter Inputthis is fun\n",
            "tothohisos isos fofunon\n"
          ]
        }
      ],
      "source": [
        "def translate(string):\n",
        "  newstr=\"\"\n",
        "  for x in string:\n",
        "    if(x.isalpha()==True):\n",
        "      if (x=='a' or x=='e' or x=='i' or x=='o' or x=='u'):\n",
        "        newstr+=x\n",
        "      else:\n",
        "        newstr+=(x+'o'+x)\n",
        "    else:\n",
        "      newstr+=x\n",
        "  return newstr\n",
        "\n",
        "string = input(\"Enter Input\")\n",
        "res = translate(string)\n",
        "print(res)\n"
      ]
    },
    {
      "cell_type": "code",
      "source": [
        "def translate(string):\n",
        "  newstr=\"\"\n",
        "  for x in string:\n",
        "    if(x.isalpha()==True):\n",
        "      if (x in 'aeiouAEIOU'):\n",
        "        newstr+=x\n",
        "      else:\n",
        "        newstr+=(x+'o'+x)\n",
        "    else:\n",
        "      newstr+=x\n",
        "  return newstr\n",
        "\n",
        "string = input(\"Enter Input\")\n",
        "res = translate(string)\n",
        "print(res)"
      ],
      "metadata": {
        "colab": {
          "base_uri": "https://localhost:8080/"
        },
        "id": "0DeFaffLShjD",
        "outputId": "b2eada08-2fac-4518-cc03-9cb1c8e0e56b"
      },
      "execution_count": null,
      "outputs": [
        {
          "output_type": "stream",
          "name": "stdout",
          "text": [
            "Enter Inputthis is fun\n",
            "tothohisos isos fofunon\n"
          ]
        }
      ]
    },
    {
      "cell_type": "markdown",
      "metadata": {
        "id": "OGpG8kcCPVbQ"
      },
      "source": [
        "Define a function sum() and a function multiply() that sums and multiplies (respectively) all the numbers in a list of numbers. For example, sum([1, 2, 3, 4]) should return 10, and multiply([1, 2, 3, 4]) should return 24"
      ]
    },
    {
      "cell_type": "code",
      "execution_count": null,
      "metadata": {
        "colab": {
          "base_uri": "https://localhost:8080/"
        },
        "id": "m1vraqQuPVbQ",
        "outputId": "c9f6a8cc-2f3d-4521-9986-41ecbebf4066"
      },
      "outputs": [
        {
          "output_type": "stream",
          "name": "stdout",
          "text": [
            "10\n",
            "24\n"
          ]
        }
      ],
      "source": [
        "def sum(mylist):\n",
        "  sum=0\n",
        "  for x in mylist:\n",
        "    sum+=x\n",
        "  return sum\n",
        "\n",
        "def multiply(mylist):\n",
        "  mul=1\n",
        "  for x in mylist:\n",
        "    mul*=x\n",
        "  return mul\n",
        "\n",
        "mylist =[1,2,3,4]\n",
        "print(sum(mylist))\n",
        "print(multiply(mylist))"
      ]
    },
    {
      "cell_type": "markdown",
      "metadata": {
        "id": "zUoKuggWPVbQ"
      },
      "source": [
        "**Define a function reverse() that computes the reversal of a string. For example, reverse(\"I am testing\") should return the string \"gnitset ma I**"
      ]
    },
    {
      "cell_type": "code",
      "execution_count": null,
      "metadata": {
        "colab": {
          "base_uri": "https://localhost:8080/"
        },
        "id": "T0imeRg3PVbR",
        "outputId": "f4af47d3-c5ff-4bf8-cb16-888c38cd7348"
      },
      "outputs": [
        {
          "output_type": "stream",
          "name": "stdout",
          "text": [
            "Enter valueI am testing\n",
            "gnitset ma I\n"
          ]
        }
      ],
      "source": [
        "def reverse(string):\n",
        "  i=0\n",
        "  res=\"\"\n",
        "  for i in string:\n",
        "    res=i+res\n",
        "  return res\n",
        "\n",
        "res = reverse(input(\"Enter value\"))\n",
        "print(res)\n"
      ]
    },
    {
      "cell_type": "markdown",
      "metadata": {
        "id": "nPQd5bxBPVbR"
      },
      "source": [
        "**Define a function is_palindrome() that recognizes palindromes (i.e. words that look the same written backwards). For example, is_palindrome(\"radar\") should return True.**"
      ]
    },
    {
      "cell_type": "code",
      "execution_count": null,
      "metadata": {
        "colab": {
          "base_uri": "https://localhost:8080/"
        },
        "id": "_mT7DHj0PVbR",
        "outputId": "85384a68-f512-4cac-92c7-744ec37b8c85"
      },
      "outputs": [
        {
          "output_type": "stream",
          "name": "stdout",
          "text": [
            "Enter Dataradar\n",
            "True\n"
          ]
        }
      ],
      "source": [
        "def is_palindrome(string):\n",
        "  size=len(string)\n",
        "  ind=0\n",
        "  while ind <= size/2:\n",
        "    if string[ind]!=string[size-ind-1]:\n",
        "      return False\n",
        "    ind+=1\n",
        "  return True\n",
        "\n",
        "print(is_palindrome(input(\"Enter Data\")))\n"
      ]
    },
    {
      "cell_type": "markdown",
      "metadata": {
        "id": "V2WcGf1XPVbR"
      },
      "source": [
        "**Write a function is_member() that takes a value (i.e. a number, string, etc) x and a list of values a, and returns True if x is a member of a, False otherwise.**"
      ]
    },
    {
      "cell_type": "code",
      "execution_count": null,
      "metadata": {
        "colab": {
          "base_uri": "https://localhost:8080/"
        },
        "id": "k3RisJ4zPVbS",
        "outputId": "d9e74305-8d9d-413d-c246-e7737a74c8bb"
      },
      "outputs": [
        {
          "output_type": "stream",
          "name": "stdout",
          "text": [
            "True\n"
          ]
        }
      ],
      "source": [
        "def is_member(var,mylist):\n",
        "  for x in mylist:\n",
        "    if (var == x):\n",
        "      return True\n",
        "  return False\n",
        "\n",
        "myList = [\"abc\",123,True,12.899,\"pp\"]\n",
        "var = 123\n",
        "print(is_member(var,myList))"
      ]
    },
    {
      "cell_type": "markdown",
      "metadata": {
        "id": "t-iKqy81PVbS"
      },
      "source": [
        "**Define a function overlapping() that takes two lists and returns True if they have at least one member in common, False otherwise. You may use your is_member() function, or the in operator, but for the sake of the exercise, you should (also) write it using two nested for-loops.**"
      ]
    },
    {
      "cell_type": "code",
      "execution_count": null,
      "metadata": {
        "colab": {
          "base_uri": "https://localhost:8080/"
        },
        "id": "6zTR7ceSPVbS",
        "outputId": "a280831a-23dd-49db-f081-06499a567b71"
      },
      "outputs": [
        {
          "output_type": "stream",
          "name": "stdout",
          "text": [
            "True\n"
          ]
        }
      ],
      "source": [
        "def overlapping(mylist1,mylist2):\n",
        "  for obj1 in mylist1:\n",
        "    for obj2 in mylist2:\n",
        "      if obj1 == obj2:\n",
        "        return True\n",
        "  return False\n",
        "mylist1 = [\"123\",123,'abc',True]\n",
        "mylist1 = [True,\"xyz\",\"cde\"]\n",
        "print(overlapping(mylist1,mylist1))"
      ]
    },
    {
      "cell_type": "markdown",
      "metadata": {
        "id": "DGdhX_gZPVbS"
      },
      "source": [
        "# *Define a procedure histogram() that takes a list of integers and prints a histogram to the screen. For example, histogram([4, 9, 7]) should print the following:*(click on next cell to see)\n"
      ]
    },
    {
      "cell_type": "markdown",
      "metadata": {
        "id": "z8BwoAb5PVbS"
      },
      "source": [
        "\n",
        "****\n",
        "*********\n",
        "*******"
      ]
    },
    {
      "cell_type": "code",
      "execution_count": null,
      "metadata": {
        "id": "xO6Au155PVbS"
      },
      "outputs": [],
      "source": []
    },
    {
      "cell_type": "markdown",
      "metadata": {
        "id": "6L8OTpI4PVbT"
      },
      "source": [
        "**Write a function char_freq() that takes a string and builds a frequency listing of the characters contained in it. Represent the frequency listing as a Python dictionary. Try it with something like char_freq(\"abbabcbdbabdbdbabababcbcbab\").**\n",
        "\n"
      ]
    },
    {
      "cell_type": "code",
      "execution_count": 1,
      "metadata": {
        "id": "qZ1BFDWKPVbT",
        "colab": {
          "base_uri": "https://localhost:8080/"
        },
        "outputId": "491f2219-6b4e-4807-b124-3c86673b89e0"
      },
      "outputs": [
        {
          "output_type": "execute_result",
          "data": {
            "text/plain": [
              "{'a': 7, 'b': 14, 'c': 3, 'd': 3}"
            ]
          },
          "metadata": {},
          "execution_count": 1
        }
      ],
      "source": [
        "def char_freq(str):\n",
        "  frq = {}\n",
        "  for i in str:\n",
        "    if i in frq:\n",
        "      frq[i] += 1\n",
        "    else:\n",
        "      frq[i] = 1\n",
        "  return frq\n",
        "\n",
        "char_freq(\"abbabcbdbabdbdbabababcbcbab\")"
      ]
    },
    {
      "cell_type": "markdown",
      "metadata": {
        "id": "pz6n0vWtPVbT"
      },
      "source": [
        "A certain childrens game involves starting with a word in a particular category. Each participant in turn says a word, but that word must begin with the final letter of the previous word. Once a word has been given, it cannot be repeated. If an opponent cannot give a word in the category, they fall out of the game. For example, with \"animals\" as the category,\n",
        "Child 1: dog\n",
        "Child 2: goldfish\n",
        "Child 1: hippopotamus\n",
        "Child 2: snake\n",
        "...\n",
        "Your task in this exercise is as follows: Take the following selection of 70 English Pokemon names (extracted from Wikipedia's list of Pokemon) and generate the/a sequence with the highest possible number of Pokemon names where the subsequent name starts with the final letter of the preceding name. No Pokemon name is to be repeated.\n",
        "**audino bagon baltoy banette bidoof braviary bronzor carracosta charmeleon\n",
        "cresselia croagunk darmanitan deino emboar emolga exeggcute gabite\n",
        "girafarig gulpin haxorus heatmor heatran ivysaur jellicent jumpluff kangaskhan\n",
        "kricketune landorus ledyba loudred lumineon lunatone machamp magnezone mamoswine\n",
        "nosepass petilil pidgeotto pikachu pinsir poliwrath poochyena porygon2\n",
        "porygonz registeel relicanth remoraid rufflet sableye scolipede scrafty seaking\n",
        "sealeo silcoon simisear snivy snorlax spoink starly tirtouga trapinch treecko\n",
        "tyrogue vigoroth vulpix wailord wartortle whismur wingull yamask**\n",
        "\n"
      ]
    },
    {
      "cell_type": "code",
      "execution_count": null,
      "metadata": {
        "id": "7-V67hhiPVbT"
      },
      "outputs": [],
      "source": []
    },
    {
      "cell_type": "markdown",
      "metadata": {
        "id": "smMi9O3jPVbT"
      },
      "source": [
        "**Write a program able to play the \"Guess the number\"-game, where the number to be guessed is randomly chosen between 1 and 20. (Source: http://inventwithpython.com) This is how it should work when run in a terminal:\n",
        "\n",
        "Hello! What is your name?\n",
        "Torbjörn\n",
        "Well, Torbjörn, I am thinking of a number between 1 and 20.\n",
        "Take a guess.\n",
        "10\n",
        "Your guess is too low.\n",
        "Take a guess.\n",
        "15\n",
        "Your guess is too low.\n",
        "Take a guess.\n",
        "18\n",
        "Good job, Torbjörn! You guessed my number in 3 guesses!***"
      ]
    },
    {
      "cell_type": "code",
      "execution_count": null,
      "metadata": {
        "colab": {
          "base_uri": "https://localhost:8080/"
        },
        "id": "drTvMmJNPVbT",
        "outputId": "6af3c2ae-951c-4cac-e14e-a5dd55f08343"
      },
      "outputs": [
        {
          "output_type": "stream",
          "name": "stdout",
          "text": [
            "guessed number 5\n",
            "Guess the number! 2\n",
            "Guess higher\n",
            "Guess the number! 10\n",
            "Guess Lower\n",
            "Guess the number! 8\n",
            "Guess Lower\n",
            "Guess the number! 7\n",
            "Guess Lower\n",
            "Guess the number! 5\n",
            "You Guessed Correct\n",
            "Total Counts:  5\n"
          ]
        }
      ],
      "source": [
        "import random\n",
        "def guess_game():\n",
        "  num=int(random.uniform(1,20)//1)\n",
        "  print(\"guessed number\",num)\n",
        "  guess = -1\n",
        "  count=0\n",
        "  while(guess!=num):\n",
        "    guess=int(input(\"Guess the number! \"))\n",
        "    if(guess==num):\n",
        "      print(\"You Guessed Correct\")\n",
        "      return count\n",
        "    if(guess<num):\n",
        "      print(\"Guess higher\")\n",
        "    else:\n",
        "      print(\"Guess Lower\")\n",
        "    count+=1\n",
        "  return -1\n",
        "\n",
        "print(\"Total Counts: \",guess_game())"
      ]
    },
    {
      "cell_type": "markdown",
      "metadata": {
        "id": "xrQWxktVPVbT"
      },
      "source": [
        "\n",
        "\n",
        "```\n",
        "# This is formatted as code\n",
        "```\n",
        "\n",
        "***Write a program that maps a list of words into a list of integers representing the lengths of the correponding words.***\n"
      ]
    },
    {
      "cell_type": "code",
      "execution_count": null,
      "metadata": {
        "colab": {
          "base_uri": "https://localhost:8080/"
        },
        "id": "pPKctu8zPVbT",
        "outputId": "17364c79-7b97-42e7-feb2-8927bba1d602"
      },
      "outputs": [
        {
          "output_type": "stream",
          "name": "stdout",
          "text": [
            "=> [1, 2, 3, 4, 4]\n"
          ]
        }
      ],
      "source": [
        "def maps(mylist):\n",
        "  numlist = []\n",
        "  for i in mylist:\n",
        "    numlist.append(len(i))\n",
        "  return numlist\n",
        "\n",
        "mylist = [\"a\",\"ab\",\"abc\",\"abcd\",\"wert\"]\n",
        "\n",
        "print(\"=>\",maps(mylist))"
      ]
    }
  ],
  "metadata": {
    "kernelspec": {
      "display_name": "Python 3",
      "language": "python",
      "name": "python3"
    },
    "language_info": {
      "codemirror_mode": {
        "name": "ipython",
        "version": 3
      },
      "file_extension": ".py",
      "mimetype": "text/x-python",
      "name": "python",
      "nbconvert_exporter": "python",
      "pygments_lexer": "ipython3",
      "version": "3.6.8"
    },
    "colab": {
      "provenance": []
    }
  },
  "nbformat": 4,
  "nbformat_minor": 0
}