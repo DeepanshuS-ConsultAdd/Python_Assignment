{
  "cells": [
    {
      "cell_type": "markdown",
      "metadata": {
        "id": "noWoY1EAoqHo"
      },
      "source": [
        "___\n",
        "\n",
        " <img src='https://www.lawctopus.com/wp-content/uploads/2019/01/Consultadd-Business-Solutions-Pune-law-internship.jpg' /></a>\n",
        "___\n",
        "# Python Crash Course Exercises\n",
        "\n",
        "This is an optional exercise to test your understanding of Python Basics. If you find this extremely challenging, then you probably are not ready for the rest of this course yet and don't have enough programming experience to continue. I would suggest you take another course more geared towards complete beginners, such as [Complete Python Bootcamp](https://www.udemy.com/complete-python-bootcamp/?couponCode=PY20)"
      ]
    },
    {
      "cell_type": "markdown",
      "metadata": {
        "id": "DXMTG-6boqHq"
      },
      "source": [
        "## Exercises\n",
        "\n",
        "Answer the questions or complete the tasks outlined in bold below, use the specific method described if applicable."
      ]
    },
    {
      "cell_type": "markdown",
      "metadata": {
        "id": "Hb1CmL5MoqHq"
      },
      "source": [
        "** What is 7 to the power of 4?**"
      ]
    },
    {
      "cell_type": "code",
      "execution_count": null,
      "metadata": {
        "colab": {
          "base_uri": "https://localhost:8080/"
        },
        "id": "P9jNyZ5joqHr",
        "outputId": "c2c824ae-634a-4ee2-bf0e-84e951e9ab33"
      },
      "outputs": [
        {
          "output_type": "stream",
          "name": "stdout",
          "text": [
            "2401\n"
          ]
        }
      ],
      "source": [
        "print(7**4)"
      ]
    },
    {
      "cell_type": "markdown",
      "metadata": {
        "id": "xNq1hOT3oqHr"
      },
      "source": [
        "** Split this string:**\n",
        "\n",
        "    s = \"Hi there Sam!\"\n",
        "    \n",
        "**into a list. **"
      ]
    },
    {
      "cell_type": "code",
      "execution_count": null,
      "metadata": {
        "colab": {
          "base_uri": "https://localhost:8080/"
        },
        "id": "CTZUGRdMoqHs",
        "outputId": "44c38a1e-2f44-45b0-a44f-e8c97a017b78"
      },
      "outputs": [
        {
          "output_type": "stream",
          "name": "stdout",
          "text": [
            "['Hi', 'there', 'Sam!']\n"
          ]
        }
      ],
      "source": [
        "s= \"Hi there Sam!\"\n",
        "obj =''\n",
        "mylist= []\n",
        "for x in s:\n",
        "  if(x!=' '):\n",
        "    obj+=x\n",
        "  else:\n",
        "    mylist.append(obj)\n",
        "    obj=''\n",
        "\n",
        "mylist.append(obj)\n",
        "print(mylist)"
      ]
    },
    {
      "cell_type": "code",
      "execution_count": null,
      "metadata": {
        "id": "Sg1kx_IqoqHs",
        "outputId": "e277c35f-6c11-4684-ff02-9ec8477de422"
      },
      "outputs": [
        {
          "data": {
            "text/plain": [
              "['Hi', 'there', 'dad!']"
            ]
          },
          "execution_count": 3,
          "metadata": {},
          "output_type": "execute_result"
        }
      ],
      "source": []
    },
    {
      "cell_type": "markdown",
      "metadata": {
        "id": "pwIQCuOXoqHs"
      },
      "source": [
        "** Given the variables:**\n",
        "\n",
        "    planet = \"Earth\"\n",
        "    diameter = 12742\n",
        "\n",
        "** Use .format() to print the following string: **\n",
        "\n",
        "    The diameter of Earth is 12742 kilometers."
      ]
    },
    {
      "cell_type": "code",
      "execution_count": null,
      "metadata": {
        "collapsed": true,
        "id": "yK5dS2UvoqHs"
      },
      "outputs": [],
      "source": [
        "planet = \"Earth\"\n",
        "diameter = 12742"
      ]
    },
    {
      "cell_type": "code",
      "execution_count": null,
      "metadata": {
        "colab": {
          "base_uri": "https://localhost:8080/"
        },
        "id": "CXy9OfL8oqHt",
        "outputId": "8711f76c-1922-4783-9319-04bd90c96c86"
      },
      "outputs": [
        {
          "output_type": "stream",
          "name": "stdout",
          "text": [
            "The diameter of Earth is 12742 Kilometer \"WOW\"\n",
            "==>  The diameter of Earth is 12742 Kilometer \"WOW\"\n"
          ]
        }
      ],
      "source": [
        "planet = \"Earth\"\n",
        "diameter = 12742\n",
        "var = f\"The diameter of {planet} is {diameter} Kilometer \\\"WOW\\\"\"\n",
        "print(var)\n",
        "print(\"==> \",f\"The diameter of {planet} is {diameter} Kilometer \\\"WOW\\\"\")"
      ]
    },
    {
      "cell_type": "markdown",
      "metadata": {
        "id": "NHnpozZUoqHt"
      },
      "source": [
        "** Given this nested list, use indexing to grab the word \"hello\" **"
      ]
    },
    {
      "cell_type": "code",
      "execution_count": null,
      "metadata": {
        "collapsed": true,
        "id": "19eENZHZoqHt"
      },
      "outputs": [],
      "source": [
        "lst = [1,2,[3,4],[5,[100,200,['hello']],23,11],1,7]"
      ]
    },
    {
      "cell_type": "code",
      "execution_count": null,
      "metadata": {
        "colab": {
          "base_uri": "https://localhost:8080/"
        },
        "id": "AuhurlWNoqHu",
        "outputId": "60a5ed81-7af1-45b1-f76c-fea9406f23b0"
      },
      "outputs": [
        {
          "output_type": "stream",
          "name": "stdout",
          "text": [
            "[5, [100, 200, ['hello']], 23, 11]\n",
            "[100, 200, ['hello']]\n",
            "['hello']\n",
            "hello\n"
          ]
        }
      ],
      "source": [
        "lst = [1,2,[3,4],[5,[100,200,['hello']],23,11],1,7]\n",
        "print(lst[3])\n",
        "print(lst[3][1])\n",
        "print(lst[3][1][2])\n",
        "print(lst[3][1][2][0])"
      ]
    },
    {
      "cell_type": "markdown",
      "metadata": {
        "id": "KWbE9-8xoqHu"
      },
      "source": [
        "** Given this nested dictionary grab the word \"hello\". Be prepared, this will be annoying/tricky **"
      ]
    },
    {
      "cell_type": "code",
      "execution_count": null,
      "metadata": {
        "id": "4ad4RsIpoqHu"
      },
      "outputs": [],
      "source": [
        "d = {'k1':[1,2,3,{'tricky':['oh','man','inception',{'target':[1,2,3,'hello']}]}]}"
      ]
    },
    {
      "cell_type": "code",
      "execution_count": null,
      "metadata": {
        "colab": {
          "base_uri": "https://localhost:8080/"
        },
        "id": "KiGbWhx_oqHu",
        "outputId": "83855e11-a24f-4d70-f519-81840e9b7b6a"
      },
      "outputs": [
        {
          "output_type": "stream",
          "name": "stdout",
          "text": [
            "[1, 2, 3, {'tricky': ['oh', 'man', 'inception', {'target': [1, 2, 3, 'hello']}]}]\n",
            "{'tricky': ['oh', 'man', 'inception', {'target': [1, 2, 3, 'hello']}]}\n",
            "['oh', 'man', 'inception', {'target': [1, 2, 3, 'hello']}]\n",
            "{'target': [1, 2, 3, 'hello']}\n",
            "[1, 2, 3, 'hello']\n",
            "hello\n"
          ]
        }
      ],
      "source": [
        "d = {'k1':[1,2,3,{'tricky':['oh','man','inception',{'target':[1,2,3,'hello']}]}]}\n",
        "print(d.get('k1'))\n",
        "print(d.get('k1')[3])\n",
        "print(d.get('k1')[3].get('tricky'))\n",
        "print(d.get('k1')[3].get('tricky')[3])\n",
        "print(d.get('k1')[3].get('tricky')[3].get('target'))\n",
        "print(d.get('k1')[3].get('tricky')[3].get('target')[3])"
      ]
    },
    {
      "cell_type": "markdown",
      "metadata": {
        "id": "sVSkcwEeoqHu"
      },
      "source": [
        "** What is the main difference between a tuple and a list? **"
      ]
    },
    {
      "cell_type": "code",
      "execution_count": null,
      "metadata": {
        "collapsed": true,
        "id": "dtV9LnD7oqHu"
      },
      "outputs": [],
      "source": [
        "# Tuple is immutable"
      ]
    },
    {
      "cell_type": "markdown",
      "metadata": {
        "id": "99NwvLDyoqHv"
      },
      "source": [
        "** Create a function that grabs the email website domain from a string in the form: **\n",
        "\n",
        "    user@domain.com\n",
        "    \n",
        "**So for example, passing \"user@domain.com\" would return: domain.com**"
      ]
    },
    {
      "cell_type": "code",
      "execution_count": null,
      "metadata": {
        "colab": {
          "base_uri": "https://localhost:8080/"
        },
        "id": "bbhqi0fHoqHv",
        "outputId": "46ee096a-e43c-4500-eca4-c17e869132ae"
      },
      "outputs": [
        {
          "output_type": "stream",
          "name": "stdout",
          "text": [
            "Domain name: user@domain.com\n",
            "domain.com\n"
          ]
        }
      ],
      "source": [
        "def domainGet(name):\n",
        "  flag = False\n",
        "  dname = \"\"\n",
        "  for x in name:\n",
        "    if flag == True:\n",
        "      dname += x\n",
        "    if x == '@':\n",
        "      flag=True\n",
        "  return dname\n",
        "\n",
        "val =input(\"Domain name: \")\n",
        "print(domainGet(val))"
      ]
    },
    {
      "cell_type": "code",
      "execution_count": null,
      "metadata": {
        "id": "s4uze1wQoqHv",
        "outputId": "587c5b45-a97d-41ed-bd44-54d694f7a7fa"
      },
      "outputs": [
        {
          "data": {
            "text/plain": [
              "'domain.com'"
            ]
          },
          "execution_count": 26,
          "metadata": {},
          "output_type": "execute_result"
        }
      ],
      "source": [
        "domainGet('user@domain.com')"
      ]
    },
    {
      "cell_type": "markdown",
      "metadata": {
        "id": "gwMrfK8XoqHv"
      },
      "source": [
        "** Create a basic function that returns True if the word 'dog' is contained in the input string. Don't worry about edge cases like a punctuation being attached to the word dog, but do account for capitalization. **"
      ]
    },
    {
      "cell_type": "code",
      "execution_count": null,
      "metadata": {
        "collapsed": true,
        "colab": {
          "base_uri": "https://localhost:8080/"
        },
        "id": "JeU41CRZoqHv",
        "outputId": "3a457444-8304-4707-9001-34f240f49a9b"
      },
      "outputs": [
        {
          "output_type": "stream",
          "name": "stdout",
          "text": [
            "TextIs there a dog here?\n",
            "Res:  True\n"
          ]
        }
      ],
      "source": [
        "def findDog(string):\n",
        "  obj = \"\"\n",
        "  for x in string:\n",
        "    if x != \" \":\n",
        "      obj+=x\n",
        "    else:\n",
        "      if obj == 'dog':\n",
        "        return True\n",
        "      obj=''\n",
        "  if obj == 'dog':\n",
        "    return True\n",
        "  return False\n",
        "\n",
        "val = input(\"Text: \")\n",
        "res = findDog(val)\n",
        "print(\"Res: \",res)"
      ]
    },
    {
      "cell_type": "code",
      "source": [
        "def findDog(string):\n",
        "  mylist = string.split(' ');\n",
        "  for x in mylist:\n",
        "    if x == 'dog':\n",
        "      return True\n",
        "  return False\n",
        "\n",
        "var = input(\"Enter the value:\")\n",
        "res= findDog(var)\n",
        "print(\"Result: \",res)"
      ],
      "metadata": {
        "colab": {
          "base_uri": "https://localhost:8080/"
        },
        "id": "HvocMJAGGSzU",
        "outputId": "112b06f1-0326-4d38-d83e-37daa6635c95"
      },
      "execution_count": null,
      "outputs": [
        {
          "output_type": "stream",
          "name": "stdout",
          "text": [
            "Enter the value:Is there a dog here?\n",
            "Result:  True\n"
          ]
        }
      ]
    },
    {
      "cell_type": "code",
      "execution_count": null,
      "metadata": {
        "id": "mKR1WdBcoqHv",
        "outputId": "64d6a8bd-919c-4151-da95-1cee3ea01aa7"
      },
      "outputs": [
        {
          "data": {
            "text/plain": [
              "True"
            ]
          },
          "execution_count": 28,
          "metadata": {},
          "output_type": "execute_result"
        }
      ],
      "source": [
        "findDog('Is there a dog here?')"
      ]
    },
    {
      "cell_type": "markdown",
      "metadata": {
        "id": "xpp06cjKoqHv"
      },
      "source": [
        "** Create a function that counts the number of times the word \"dog\" occurs in a string. Again ignore edge cases. **"
      ]
    },
    {
      "cell_type": "code",
      "execution_count": null,
      "metadata": {
        "colab": {
          "base_uri": "https://localhost:8080/"
        },
        "id": "wcy-fivnoqHv",
        "outputId": "b63f4d28-6af7-4680-83a4-6aa83747b44f"
      },
      "outputs": [
        {
          "output_type": "stream",
          "name": "stdout",
          "text": [
            "Enter the value: This dog runs faster than the other dog dude!'\n",
            "2\n"
          ]
        }
      ],
      "source": [
        "def countDog(string):\n",
        "  mylist = string.split(' ')\n",
        "  count = 0\n",
        "  for x in mylist:\n",
        "    if x == 'dog':\n",
        "      count+=1\n",
        "  return count\n",
        "\n",
        "var = input(\"Enter the value: \")\n",
        "res = countDog(var)\n",
        "print(res)"
      ]
    },
    {
      "cell_type": "code",
      "execution_count": null,
      "metadata": {
        "id": "WqO6CqKRoqHv",
        "outputId": "97b27bad-9e12-4928-ca67-0abc0d57e2b6"
      },
      "outputs": [
        {
          "data": {
            "text/plain": [
              "2"
            ]
          },
          "execution_count": 31,
          "metadata": {},
          "output_type": "execute_result"
        }
      ],
      "source": [
        "countDog('This dog runs faster than the other dog dude!')"
      ]
    },
    {
      "cell_type": "markdown",
      "metadata": {
        "id": "zRhJGLSdoqHv"
      },
      "source": [
        "** Use lambda expressions and the filter() function to filter out words from a list that don't start with the letter 's'. For example:**\n",
        "\n",
        "    seq = ['soup','dog','salad','cat','great']\n",
        "\n",
        "**should be filtered down to:**\n",
        "\n",
        "    ['soup','salad']"
      ]
    },
    {
      "cell_type": "code",
      "execution_count": null,
      "metadata": {
        "collapsed": true,
        "id": "Pb1SVlLzoqHv"
      },
      "outputs": [],
      "source": [
        "seq = ['soup','dog','salad','cat','great']"
      ]
    },
    {
      "cell_type": "code",
      "execution_count": null,
      "metadata": {
        "colab": {
          "base_uri": "https://localhost:8080/"
        },
        "id": "2eXXkD-VoqHw",
        "outputId": "4234a3d6-b02f-4128-bbce-00b6b47a0639"
      },
      "outputs": [
        {
          "output_type": "stream",
          "name": "stdout",
          "text": [
            "soup\n",
            "dog\n",
            "salad\n",
            "cat\n",
            "great\n",
            "['soup', 'salad']\n"
          ]
        }
      ],
      "source": [
        "seq = ['soup','dog','salad','cat','great']\n",
        "\n",
        "check = lambda string: string[0] == 's'\n",
        "\n",
        "def filter(mylist):\n",
        "  i=0\n",
        "  newlist= []\n",
        "  for x in mylist:\n",
        "    print(x)\n",
        "    res=check(x)\n",
        "    i+=1\n",
        "    if(res==True):\n",
        "      newlist.append(x)\n",
        "  return newlist\n",
        "\n",
        "\n",
        "newlist=filter(seq)\n",
        "print(newlist)"
      ]
    },
    {
      "cell_type": "markdown",
      "metadata": {
        "id": "hh4qJ7suoqHw"
      },
      "source": [
        "### Final Problem\n",
        "**You are driving a little too fast, and a police officer stops you. Write a function\n",
        "  to return one of 3 possible results: \"No ticket\", \"Small ticket\", or \"Big Ticket\".\n",
        "  If your speed is 60 or less, the result is \"No Ticket\". If speed is between 61\n",
        "  and 80 inclusive, the result is \"Small Ticket\". If speed is 81 or more, the result is \"Big    Ticket\". Unless it is your birthday (encoded as a boolean value in the parameters of the function) -- on your birthday, your speed can be 5 higher in all\n",
        "  cases. **"
      ]
    },
    {
      "cell_type": "code",
      "execution_count": null,
      "metadata": {
        "colab": {
          "base_uri": "https://localhost:8080/"
        },
        "id": "0rxBg4FzoqHw",
        "outputId": "2ef4c7df-4dab-4bd7-c7d3-7d0ba179d315"
      },
      "outputs": [
        {
          "output_type": "stream",
          "name": "stdout",
          "text": [
            "Small ticket\n",
            "Big Ticket\n"
          ]
        }
      ],
      "source": [
        "def caught_speeding(speed, is_birthday):\n",
        "  limit1,limit2 = 60,80\n",
        "  if is_birthday== True:\n",
        "    limit1=limit1+5\n",
        "    limit2=limit2+5\n",
        "\n",
        "  if(speed < limit1):\n",
        "    return \"No ticket\"\n",
        "  elif (speed <limit2):\n",
        "    return \"Small ticket\"\n",
        "  else:\n",
        "    return \"Big Ticket\"\n",
        "\n",
        "  return \"error\"\n",
        "\n",
        "print(caught_speeding(81,True))\n",
        "print(caught_speeding(81,False))"
      ]
    },
    {
      "cell_type": "code",
      "execution_count": null,
      "metadata": {
        "id": "bjS_yfKaoqHw",
        "outputId": "0234760a-fc83-4fcc-f756-19c943a00875"
      },
      "outputs": [
        {
          "data": {
            "text/plain": [
              "'Small Ticket'"
            ]
          },
          "execution_count": 42,
          "metadata": {},
          "output_type": "execute_result"
        }
      ],
      "source": [
        "caught_speeding(81,True)"
      ]
    },
    {
      "cell_type": "code",
      "execution_count": null,
      "metadata": {
        "id": "KEzixcHloqHw",
        "outputId": "cd70ff10-d969-47a4-853f-8e0a663b3e99"
      },
      "outputs": [
        {
          "data": {
            "text/plain": [
              "'Big Ticket'"
            ]
          },
          "execution_count": 43,
          "metadata": {},
          "output_type": "execute_result"
        }
      ],
      "source": [
        "caught_speeding(81,False)"
      ]
    },
    {
      "cell_type": "markdown",
      "metadata": {
        "id": "gwX4kcINoqHw"
      },
      "source": [
        "# Great job!"
      ]
    }
  ],
  "metadata": {
    "kernelspec": {
      "display_name": "Python 3",
      "language": "python",
      "name": "python3"
    },
    "language_info": {
      "codemirror_mode": {
        "name": "ipython",
        "version": 3
      },
      "file_extension": ".py",
      "mimetype": "text/x-python",
      "name": "python",
      "nbconvert_exporter": "python",
      "pygments_lexer": "ipython3",
      "version": "3.6.2"
    },
    "colab": {
      "provenance": []
    }
  },
  "nbformat": 4,
  "nbformat_minor": 0
}